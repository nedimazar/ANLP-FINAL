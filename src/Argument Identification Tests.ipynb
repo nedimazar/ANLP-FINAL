{
 "cells": [
  {
   "cell_type": "code",
   "execution_count": 1,
   "id": "df476e4e",
   "metadata": {},
   "outputs": [
    {
     "name": "stderr",
     "output_type": "stream",
     "text": [
      "Some weights of the model checkpoint at bert-base-uncased were not used when initializing BertModel: ['cls.predictions.transform.dense.weight', 'cls.predictions.transform.LayerNorm.weight', 'cls.seq_relationship.bias', 'cls.predictions.bias', 'cls.seq_relationship.weight', 'cls.predictions.decoder.weight', 'cls.predictions.transform.dense.bias', 'cls.predictions.transform.LayerNorm.bias']\n",
      "- This IS expected if you are initializing BertModel from the checkpoint of a model trained on another task or with another architecture (e.g. initializing a BertForSequenceClassification model from a BertForPreTraining model).\n",
      "- This IS NOT expected if you are initializing BertModel from the checkpoint of a model that you expect to be exactly identical (initializing a BertForSequenceClassification model from a BertForSequenceClassification model).\n"
     ]
    }
   ],
   "source": [
    "import ssl\n",
    "\n",
    "ssl._create_default_https_context = ssl._create_unverified_context\n",
    "\n",
    "from allennlp.predictors.predictor import Predictor\n",
    "import allennlp_models.tagging\n",
    "\n",
    "predictor_bert = Predictor.from_path(\"https://storage.googleapis.com/allennlp-public-models/structured-prediction-srl-bert.2020.12.15.tar.gz\")\n",
    "\n",
    "predictor_bilstm = Predictor.from_path(\"https://storage.googleapis.com/allennlp-public-models/openie-model.2020.03.26.tar.gz\")"
   ]
  },
  {
   "cell_type": "code",
   "execution_count": 4,
   "id": "aaeb3d0e",
   "metadata": {},
   "outputs": [
    {
     "ename": "KeyError",
     "evalue": "'person'",
     "output_type": "error",
     "traceback": [
      "\u001b[0;31m---------------------------------------------------------------------------\u001b[0m",
      "\u001b[0;31mKeyError\u001b[0m                                  Traceback (most recent call last)",
      "Cell \u001b[0;32mIn[4], line 27\u001b[0m\n\u001b[1;32m     24\u001b[0m \u001b[38;5;28;01mfor\u001b[39;00m template \u001b[38;5;129;01min\u001b[39;00m templates:\n\u001b[1;32m     25\u001b[0m     \u001b[38;5;28;01mfor\u001b[39;00m _ \u001b[38;5;129;01min\u001b[39;00m \u001b[38;5;28mrange\u001b[39m(\u001b[38;5;241m10\u001b[39m):  \u001b[38;5;66;03m# Generate 10 sentences for each template\u001b[39;00m\n\u001b[1;32m     26\u001b[0m         sentence \u001b[38;5;241m=\u001b[39m editor\u001b[38;5;241m.\u001b[39mtemplate(template,\n\u001b[0;32m---> 27\u001b[0m             person\u001b[38;5;241m=\u001b[39mrandom_choice(\u001b[43meditor\u001b[49m\u001b[38;5;241;43m.\u001b[39;49m\u001b[43mlexicons\u001b[49m\u001b[43m[\u001b[49m\u001b[38;5;124;43m'\u001b[39;49m\u001b[38;5;124;43mperson\u001b[39;49m\u001b[38;5;124;43m'\u001b[39;49m\u001b[43m]\u001b[49m),\n\u001b[1;32m     28\u001b[0m             verb\u001b[38;5;241m=\u001b[39mrandom_choice(editor\u001b[38;5;241m.\u001b[39mlexicons[\u001b[38;5;124m'\u001b[39m\u001b[38;5;124mverb\u001b[39m\u001b[38;5;124m'\u001b[39m]),\n\u001b[1;32m     29\u001b[0m             obj\u001b[38;5;241m=\u001b[39mrandom_choice(editor\u001b[38;5;241m.\u001b[39mlexicons[\u001b[38;5;124m'\u001b[39m\u001b[38;5;124mnoun\u001b[39m\u001b[38;5;124m'\u001b[39m]),\n\u001b[1;32m     30\u001b[0m             prep\u001b[38;5;241m=\u001b[39mrandom_choice(editor\u001b[38;5;241m.\u001b[39mlexicons[\u001b[38;5;124m'\u001b[39m\u001b[38;5;124mprep\u001b[39m\u001b[38;5;124m'\u001b[39m]),\n\u001b[1;32m     31\u001b[0m             loc\u001b[38;5;241m=\u001b[39mrandom_choice(editor\u001b[38;5;241m.\u001b[39mlexicons[\u001b[38;5;124m'\u001b[39m\u001b[38;5;124mlocation\u001b[39m\u001b[38;5;124m'\u001b[39m]),\n\u001b[1;32m     32\u001b[0m             conj\u001b[38;5;241m=\u001b[39mrandom_choice(editor\u001b[38;5;241m.\u001b[39mlexicons[\u001b[38;5;124m'\u001b[39m\u001b[38;5;124mconj\u001b[39m\u001b[38;5;124m'\u001b[39m]),\n\u001b[1;32m     33\u001b[0m             verb2\u001b[38;5;241m=\u001b[39mrandom_choice(editor\u001b[38;5;241m.\u001b[39mlexicons[\u001b[38;5;124m'\u001b[39m\u001b[38;5;124mverb\u001b[39m\u001b[38;5;124m'\u001b[39m]),\n\u001b[1;32m     34\u001b[0m             obj2\u001b[38;5;241m=\u001b[39mrandom_choice(editor\u001b[38;5;241m.\u001b[39mlexicons[\u001b[38;5;124m'\u001b[39m\u001b[38;5;124mnoun\u001b[39m\u001b[38;5;124m'\u001b[39m])\n\u001b[1;32m     35\u001b[0m         )\n\u001b[1;32m     37\u001b[0m         \u001b[38;5;66;03m# Get the indices of arguments in the sentence\u001b[39;00m\n\u001b[1;32m     38\u001b[0m         words \u001b[38;5;241m=\u001b[39m sentence\u001b[38;5;241m.\u001b[39msplit()\n",
      "\u001b[0;31mKeyError\u001b[0m: 'person'"
     ]
    }
   ],
   "source": [
    "import random\n",
    "from checklist.editor import Editor\n",
    "from checklist.perturb import Perturb\n",
    "\n",
    "# Initialize the editor\n",
    "editor = Editor()\n",
    "\n",
    "# Define templates with varying structures and arguments\n",
    "templates = [\n",
    "    '{person} {verb} {obj}',\n",
    "    '{person} {verb} {obj} {prep} {loc}',\n",
    "    '{person} {verb} {obj} {conj} {verb2} {obj2}',\n",
    "    '{person} {verb} {obj} {prep} {loc} {conj} {verb2} {obj2}'\n",
    "]\n",
    "\n",
    "# Helper function to get random elements from a list\n",
    "def random_choice(elements):\n",
    "    return random.choice(elements)\n",
    "\n",
    "# Generate sentences with random combinations of words for each template\n",
    "sentences = []\n",
    "true_arguments = []\n",
    "\n",
    "for template in templates:\n",
    "    for _ in range(10):  # Generate 10 sentences for each template\n",
    "        sentence = editor.template(template,\n",
    "            person=random_choice(editor.lexicons['person']),\n",
    "            verb=random_choice(editor.lexicons['verb']),\n",
    "            obj=random_choice(editor.lexicons['noun']),\n",
    "            prep=random_choice(editor.lexicons['prep']),\n",
    "            loc=random_choice(editor.lexicons['location']),\n",
    "            conj=random_choice(editor.lexicons['conj']),\n",
    "            verb2=random_choice(editor.lexicons['verb']),\n",
    "            obj2=random_choice(editor.lexicons['noun'])\n",
    "        )\n",
    "        \n",
    "        # Get the indices of arguments in the sentence\n",
    "        words = sentence.split()\n",
    "        args_indices = [i for i, w in enumerate(words) if w in editor.lexicons]\n",
    "        \n",
    "        sentences.append(sentence)\n",
    "        true_arguments.append(args_indices)\n",
    "\n",
    "# Perturb the sentences to add additional variability\n",
    "perturbed_sentences, perturbed_true_arguments = Perturb.perturb(sentences, true_arguments, nsamples=5, meta=True)\n",
    "\n",
    "# Print some examples\n",
    "for i in range(5):\n",
    "    print(f\"Sentence: {perturbed_sentences[i]}\")\n",
    "    print(f\"True arguments: {perturbed_true_arguments[i]}\\n\")"
   ]
  },
  {
   "cell_type": "code",
   "execution_count": 3,
   "id": "ed3d1626",
   "metadata": {},
   "outputs": [
    {
     "data": {
      "text/plain": [
       "<checklist.editor.Editor at 0x7fdc7b6b7a00>"
      ]
     },
     "execution_count": 3,
     "metadata": {},
     "output_type": "execute_result"
    }
   ],
   "source": [
    "editor."
   ]
  }
 ],
 "metadata": {
  "kernelspec": {
   "display_name": "allenNLP",
   "language": "python",
   "name": "allennlp"
  },
  "language_info": {
   "codemirror_mode": {
    "name": "ipython",
    "version": 3
   },
   "file_extension": ".py",
   "mimetype": "text/x-python",
   "name": "python",
   "nbconvert_exporter": "python",
   "pygments_lexer": "ipython3",
   "version": "3.8.10"
  }
 },
 "nbformat": 4,
 "nbformat_minor": 5
}
