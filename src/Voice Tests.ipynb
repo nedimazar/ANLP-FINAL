{
 "cells": [
  {
   "cell_type": "code",
   "execution_count": 1,
   "id": "09b98b8d",
   "metadata": {},
   "outputs": [
    {
     "name": "stderr",
     "output_type": "stream",
     "text": [
      "Some weights of the model checkpoint at bert-base-uncased were not used when initializing BertModel: ['cls.predictions.bias', 'cls.predictions.transform.LayerNorm.bias', 'cls.seq_relationship.bias', 'cls.predictions.transform.dense.bias', 'cls.predictions.transform.LayerNorm.weight', 'cls.seq_relationship.weight', 'cls.predictions.decoder.weight', 'cls.predictions.transform.dense.weight']\n",
      "- This IS expected if you are initializing BertModel from the checkpoint of a model trained on another task or with another architecture (e.g. initializing a BertForSequenceClassification model from a BertForPreTraining model).\n",
      "- This IS NOT expected if you are initializing BertModel from the checkpoint of a model that you expect to be exactly identical (initializing a BertForSequenceClassification model from a BertForSequenceClassification model).\n"
     ]
    }
   ],
   "source": [
    "import ssl\n",
    "import os\n",
    "\n",
    "ssl._create_default_https_context = ssl._create_unverified_context\n",
    "\n",
    "from allennlp.predictors.predictor import Predictor\n",
    "import allennlp_models.tagging\n",
    "\n",
    "predictor_bert = Predictor.from_path(\"https://storage.googleapis.com/allennlp-public-models/structured-prediction-srl-bert.2020.12.15.tar.gz\")\n",
    "\n",
    "predictor_bilstm = Predictor.from_path(\"https://storage.googleapis.com/allennlp-public-models/openie-model.2020.03.26.tar.gz\")"
   ]
  },
  {
   "cell_type": "code",
   "execution_count": 2,
   "id": "f2a8a393",
   "metadata": {},
   "outputs": [
    {
     "name": "stdout",
     "output_type": "stream",
     "text": [
      "{'active': 'The pilot flew the plane across the ocean.', 'passive': 'The plane was flown across the ocean by the pilot.'}\n",
      "89 sentences\n"
     ]
    }
   ],
   "source": [
    "import json\n",
    "with open('data/voice_inv.json', 'r') as infile:\n",
    "    contents = infile.read()\n",
    "    sentences = json.loads(contents)\n",
    "print(sentences[-3])\n",
    "print(len(sentences), \"sentences\")"
   ]
  },
  {
   "cell_type": "markdown",
   "id": "3f2692ff",
   "metadata": {},
   "source": [
    "### INV: Active/Passive voice."
   ]
  },
  {
   "cell_type": "code",
   "execution_count": 3,
   "id": "c90fac63",
   "metadata": {},
   "outputs": [
    {
     "name": "stdout",
     "output_type": "stream",
     "text": [
      "(BERT) INV to active/passive voice failure rate: 12.359550561797752\n",
      "(BiLSTM) INV to active/passive voice failure rate: 20.224719101123593\n"
     ]
    }
   ],
   "source": [
    "def voice_inv(predictor, sentences, model_name):\n",
    "    failures = list()\n",
    "    model_outputs = []\n",
    "    verb_counts = set()\n",
    "    \n",
    "    for sentence in sentences:\n",
    "        active = sentence['active']\n",
    "        passive = sentence['passive']\n",
    "        \n",
    "        active_pred = predictor.predict(active)\n",
    "        passive_pred = predictor.predict(passive)\n",
    "        \n",
    "        # The first failure case, we need to substract 1 for 'was'\n",
    "        if len(active_pred['verbs']) != (len(passive_pred['verbs']) -1):\n",
    "            failures.append(1)\n",
    "            failure = True\n",
    "        else:\n",
    "            active_set = set(active_pred['verbs'][0]['tags'])\n",
    "   \n",
    "            if passive_pred['verbs'][0]['verb'].lower() not in ['was', 'were']:\n",
    "                passive_set = set(passive_pred['verbs'][0]['tags'])\n",
    "            else:\n",
    "                passive_set = set(passive_pred['verbs'][1]['tags'])\n",
    "\n",
    "            failure = active_set != passive_set\n",
    "            failures.append(1 * failure)\n",
    "\n",
    "        # Add output to model_outputs\n",
    "        model_outputs.append({\n",
    "            'input': {'active': active, 'passive': passive},\n",
    "            'output': {'active_pred': active_pred, 'passive_pred': passive_pred},\n",
    "            'failure': failure\n",
    "        })\n",
    "\n",
    "    # Write model_outputs to a JSON file\n",
    "    if not os.path.exists(\"model_outputs\"):\n",
    "        os.makedirs(\"model_outputs\")\n",
    "    with open(f'model_outputs/voice_inv_{model_name}.json', 'w') as f:\n",
    "        json.dump(model_outputs, f, indent=4)\n",
    "                                  \n",
    "    return (sum(failures) / len(failures))\n",
    "   \n",
    "print(\"(BERT) INV to active/passive voice failure rate:\", 100 * voice_inv(predictor_bert, sentences, 'BERT'))\n",
    "print(\"(BiLSTM) INV to active/passive voice failure rate:\", 100 * voice_inv(predictor_bilstm, sentences, 'BiLSTM'))"
   ]
  }
 ],
 "metadata": {
  "kernelspec": {
   "display_name": "allenNLP",
   "language": "python",
   "name": "allennlp"
  },
  "language_info": {
   "codemirror_mode": {
    "name": "ipython",
    "version": 3
   },
   "file_extension": ".py",
   "mimetype": "text/x-python",
   "name": "python",
   "nbconvert_exporter": "python",
   "pygments_lexer": "ipython3",
   "version": "3.8.10"
  }
 },
 "nbformat": 4,
 "nbformat_minor": 5
}
