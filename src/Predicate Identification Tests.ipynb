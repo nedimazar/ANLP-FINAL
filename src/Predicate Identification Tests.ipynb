{
 "cells": [
  {
   "cell_type": "code",
   "execution_count": 1,
   "id": "09b98b8d",
   "metadata": {},
   "outputs": [
    {
     "name": "stderr",
     "output_type": "stream",
     "text": [
      "Some weights of the model checkpoint at bert-base-uncased were not used when initializing BertModel: ['cls.seq_relationship.weight', 'cls.predictions.bias', 'cls.predictions.transform.LayerNorm.weight', 'cls.seq_relationship.bias', 'cls.predictions.transform.dense.weight', 'cls.predictions.transform.dense.bias', 'cls.predictions.decoder.weight', 'cls.predictions.transform.LayerNorm.bias']\n",
      "- This IS expected if you are initializing BertModel from the checkpoint of a model trained on another task or with another architecture (e.g. initializing a BertForSequenceClassification model from a BertForPreTraining model).\n",
      "- This IS NOT expected if you are initializing BertModel from the checkpoint of a model that you expect to be exactly identical (initializing a BertForSequenceClassification model from a BertForSequenceClassification model).\n"
     ]
    }
   ],
   "source": [
    "import ssl\n",
    "\n",
    "ssl._create_default_https_context = ssl._create_unverified_context\n",
    "\n",
    "from allennlp.predictors.predictor import Predictor\n",
    "import allennlp_models.tagging\n",
    "\n",
    "predictor_bert = Predictor.from_path(\"https://storage.googleapis.com/allennlp-public-models/structured-prediction-srl-bert.2020.12.15.tar.gz\")\n",
    "\n",
    "predictor_bilstm = Predictor.from_path(\"https://storage.googleapis.com/allennlp-public-models/openie-model.2020.03.26.tar.gz\")"
   ]
  },
  {
   "cell_type": "markdown",
   "id": "79862a81",
   "metadata": {},
   "source": [
    "### MFT: Short sentences with one verb.\n",
    "#### GPT-4 prompt:\n",
    "Generate 50 sentences that contain exactly one verb. And specify what the verb is using a tab. Do not prepend numbers. Each sentence cannot have more than 1 verb.\n",
    "\n",
    "Here is sample output that I want:\n",
    "\n",
    "She loves parties.\\tloves\n",
    "\n",
    "Tell me more.\\tTell\n",
    "\n",
    "It's a beautiful day.\\t's\n",
    "\n",
    "Put your hands behind your back!\\tPut"
   ]
  },
  {
   "cell_type": "code",
   "execution_count": 2,
   "id": "675f8ee5",
   "metadata": {},
   "outputs": [
    {
     "name": "stdout",
     "output_type": "stream",
     "text": [
      "['She reads every day.', 'He studied all night.', 'He went to the store.']\n",
      "['reads', 'studied', 'went']\n"
     ]
    }
   ],
   "source": [
    "with open('data/predicate_identification_1.tsv','r') as infile:\n",
    "    contents = infile.readlines()\n",
    "    contents = [row.strip('\\n').split('\\t') for row in contents]\n",
    "    sentences = [row[0] for row in contents]\n",
    "    verbs = [row[1] for row in contents]\n",
    "    print(sentences[:3])\n",
    "    print(verbs[:3])    "
   ]
  },
  {
   "cell_type": "code",
   "execution_count": 3,
   "id": "82a8161b",
   "metadata": {},
   "outputs": [
    {
     "name": "stdout",
     "output_type": "stream",
     "text": [
      "(BERT) The error rate for short sentences with one verb is: 0.0\n",
      "(BILSTM) The error rate for short sentences with one verb is: 0.0\n"
     ]
    }
   ],
   "source": [
    "def short_sentences(predictor, sentences, verbs):\n",
    "    errors = 0\n",
    "    for sentence, verb in zip(sentences, verbs):\n",
    "        detected_verbs = set()\n",
    "        prediction = predictor.predict(sentence=sentence)\n",
    "        for detected in prediction['verbs']:\n",
    "            detected_verbs.add(detected['verb'])\n",
    "        if verb not in detected_verbs:\n",
    "            errors += 1\n",
    "            print(repr((sentence, verb)))\n",
    "    return errors / len(sentences)\n",
    "            \n",
    "bert_short_sentences_error_rate = short_sentences(predictor_bert, sentences, verbs)\n",
    "print(f'(BERT) The error rate for short sentences with one verb is:', bert_short_sentences_error_rate)\n",
    "\n",
    "bilstm_short_sentences_error_rate = short_sentences(predictor_bilstm, sentences, verbs)\n",
    "print(f'(BILSTM) The error rate for short sentences with one verb is:', bilstm_short_sentences_error_rate)"
   ]
  },
  {
   "cell_type": "markdown",
   "id": "0e9b8048",
   "metadata": {},
   "source": [
    "### MFT: Sentences with a succession of verbs.\n",
    "#### GPT-4 prompt:\n",
    "Generate sentences with an arbitrary length succession of more than one verbs. Then  write the verbs separated by [tab].\n",
    "\n",
    "Here is an example:\n",
    "They sacked, pillaged, and burned the village.[tab]sacked[tab]pillaged[tab]burned"
   ]
  },
  {
   "cell_type": "code",
   "execution_count": 4,
   "id": "0e41d6a0",
   "metadata": {},
   "outputs": [
    {
     "name": "stdout",
     "output_type": "stream",
     "text": [
      "['I woke, brushed my teeth, and took a shower before leaving for work.', 'She cooked dinner, cleaned the house, and helped the kids with their homework.', 'He ran, jumped, and climbed his way through the obstacle course.']\n",
      "[['woke', 'brushed', 'took', 'leaving'], ['cooked', 'cleaned', 'helped'], ['ran', 'jumped', 'climbed']]\n"
     ]
    }
   ],
   "source": [
    "with open('data/predicate_identification_2.tsv','r') as infile:\n",
    "    contents = infile.readlines()\n",
    "    contents = [row.strip('\\n') for row in  contents]\n",
    "    contents = [row.split('\\t') for row in contents]\n",
    "    sentences = [row[0] for row in contents]\n",
    "    verb_lists = [row[1:] for row in contents]\n",
    "print(sentences[:3])\n",
    "print(verb_lists[:3])"
   ]
  },
  {
   "cell_type": "code",
   "execution_count": 5,
   "id": "7d040c0d",
   "metadata": {},
   "outputs": [
    {
     "name": "stdout",
     "output_type": "stream",
     "text": [
      "Verb not detected by model:  ('She picked, sorted, and delivered the mail to each office.', 'sorted')\n",
      "Verb not detected by model:  ('The chef chopped, sautéed, and plated the gourmet dish.', 'sautéed')\n",
      "Verb not detected by model:  ('He folded, packed, and shipped the order to the customer.', 'packed')\n",
      "Verb not detected by model:  ('The journalist interviewed, transcribed, and reported the breaking news.', 'transcribed')\n",
      "Verb not detected by model:  ('He scheduled, coordinated, and supervised the construction project.', 'coordinated')\n",
      "Verb not detected by model:  ('He poured, mixed, and served the refreshing cocktails.', 'mixed')\n",
      "Verb not detected by model:  ('He checked in, unpacked, and relaxed at the hotel.', 'unpacked')\n",
      "(BERT) The verb succession failure rate is: 0.033333333333333326\n"
     ]
    }
   ],
   "source": [
    "def verb_succession(predictor, sentences, verb_lists):\n",
    "    error_rates = []\n",
    "    for sentence, verb_list in zip(sentences, verb_lists):\n",
    "        expected = len(verb_list)\n",
    "        errors = 0\n",
    "        detected_verbs = set()\n",
    "        prediction = predictor.predict(sentence=sentence)\n",
    "        for detected in prediction['verbs']:\n",
    "            detected_verbs.add(detected['verb'])\n",
    "        for verb in verb_list:\n",
    "            if verb not in detected_verbs:\n",
    "                errors += 1\n",
    "                print('Verb not detected by model: ', repr((sentence, verb)))\n",
    "        error_rates.append(errors / expected)\n",
    "    return sum(error_rates) / len(error_rates)\n",
    "\n",
    "\n",
    "print(\"(BERT) The verb succession failure rate is:\", verb_succession(predictor_bert, sentences, verb_lists))"
   ]
  },
  {
   "cell_type": "code",
   "execution_count": 6,
   "id": "76d2e509",
   "metadata": {},
   "outputs": [
    {
     "name": "stdout",
     "output_type": "stream",
     "text": [
      "Verb not detected by model:  ('She picked, sorted, and delivered the mail to each office.', 'sorted')\n",
      "Verb not detected by model:  ('The chef chopped, sautéed, and plated the gourmet dish.', 'sautéed')\n",
      "Verb not detected by model:  ('He folded, packed, and shipped the order to the customer.', 'packed')\n",
      "Verb not detected by model:  ('The journalist interviewed, transcribed, and reported the breaking news.', 'transcribed')\n",
      "Verb not detected by model:  ('He scheduled, coordinated, and supervised the construction project.', 'coordinated')\n",
      "Verb not detected by model:  ('He poured, mixed, and served the refreshing cocktails.', 'mixed')\n",
      "Verb not detected by model:  ('He checked in, unpacked, and relaxed at the hotel.', 'unpacked')\n",
      "(BILSTM) The verb succession failure rate is: 0.033333333333333326\n"
     ]
    }
   ],
   "source": [
    "print(\"(BILSTM) The verb succession failure rate is:\", verb_succession(predictor_bilstm, sentences, verb_lists))"
   ]
  },
  {
   "cell_type": "markdown",
   "id": "24653079",
   "metadata": {},
   "source": [
    "### Both models miss the same set of verbs, these verbs seem to be common ones that are used as nouns."
   ]
  },
  {
   "cell_type": "code",
   "execution_count": 7,
   "id": "c37773fb",
   "metadata": {},
   "outputs": [
    {
     "data": {
      "text/plain": [
       "{'verbs': [{'verb': 'picked',\n",
       "   'description': '[ARG0: She] [V: picked] , sorted , and delivered the mail to each office .',\n",
       "   'tags': ['B-ARG0',\n",
       "    'B-V',\n",
       "    'O',\n",
       "    'O',\n",
       "    'O',\n",
       "    'O',\n",
       "    'O',\n",
       "    'O',\n",
       "    'O',\n",
       "    'O',\n",
       "    'O',\n",
       "    'O',\n",
       "    'O']},\n",
       "  {'verb': 'delivered',\n",
       "   'description': '[ARG0: She] picked , sorted , and [V: delivered] [ARG1: the mail] [ARG2: to each office] .',\n",
       "   'tags': ['B-ARG0',\n",
       "    'O',\n",
       "    'O',\n",
       "    'O',\n",
       "    'O',\n",
       "    'O',\n",
       "    'B-V',\n",
       "    'B-ARG1',\n",
       "    'I-ARG1',\n",
       "    'B-ARG2',\n",
       "    'I-ARG2',\n",
       "    'I-ARG2',\n",
       "    'O']}],\n",
       " 'words': ['She',\n",
       "  'picked',\n",
       "  ',',\n",
       "  'sorted',\n",
       "  ',',\n",
       "  'and',\n",
       "  'delivered',\n",
       "  'the',\n",
       "  'mail',\n",
       "  'to',\n",
       "  'each',\n",
       "  'office',\n",
       "  '.']}"
      ]
     },
     "execution_count": 7,
     "metadata": {},
     "output_type": "execute_result"
    }
   ],
   "source": [
    "predictor_bert.predict('She picked, sorted, and delivered the mail to each office.')"
   ]
  },
  {
   "cell_type": "code",
   "execution_count": 8,
   "id": "7daccc78",
   "metadata": {},
   "outputs": [
    {
     "data": {
      "text/plain": [
       "{'verbs': [{'verb': 'picked',\n",
       "   'description': '[ARG0: She] [V: picked] , sorted , and delivered the mail to each office .',\n",
       "   'tags': ['B-ARG0',\n",
       "    'B-V',\n",
       "    'O',\n",
       "    'O',\n",
       "    'O',\n",
       "    'O',\n",
       "    'O',\n",
       "    'O',\n",
       "    'O',\n",
       "    'O',\n",
       "    'O',\n",
       "    'O',\n",
       "    'O']},\n",
       "  {'verb': 'delivered',\n",
       "   'description': '[ARG0: She] picked , sorted , and [V: delivered] [ARG1: the mail] [ARG2: to each office] .',\n",
       "   'tags': ['B-ARG0',\n",
       "    'O',\n",
       "    'O',\n",
       "    'O',\n",
       "    'O',\n",
       "    'O',\n",
       "    'B-V',\n",
       "    'B-ARG1',\n",
       "    'I-ARG1',\n",
       "    'B-ARG2',\n",
       "    'I-ARG2',\n",
       "    'I-ARG2',\n",
       "    'O']}],\n",
       " 'words': ['She',\n",
       "  'picked',\n",
       "  ',',\n",
       "  'sorted',\n",
       "  ',',\n",
       "  'and',\n",
       "  'delivered',\n",
       "  'the',\n",
       "  'mail',\n",
       "  'to',\n",
       "  'each',\n",
       "  'office',\n",
       "  '.']}"
      ]
     },
     "execution_count": 8,
     "metadata": {},
     "output_type": "execute_result"
    }
   ],
   "source": [
    "predictor_bilstm.predict('She picked, sorted, and delivered the mail to each office.')"
   ]
  }
 ],
 "metadata": {
  "kernelspec": {
   "display_name": "allenNLP",
   "language": "python",
   "name": "allennlp"
  },
  "language_info": {
   "codemirror_mode": {
    "name": "ipython",
    "version": 3
   },
   "file_extension": ".py",
   "mimetype": "text/x-python",
   "name": "python",
   "nbconvert_exporter": "python",
   "pygments_lexer": "ipython3",
   "version": "3.8.10"
  }
 },
 "nbformat": 4,
 "nbformat_minor": 5
}
