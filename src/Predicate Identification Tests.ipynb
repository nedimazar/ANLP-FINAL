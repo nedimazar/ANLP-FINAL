{
 "cells": [
  {
   "cell_type": "code",
   "execution_count": 1,
   "id": "09b98b8d",
   "metadata": {},
   "outputs": [
    {
     "name": "stderr",
     "output_type": "stream",
     "text": [
      "Some weights of the model checkpoint at bert-base-uncased were not used when initializing BertModel: ['cls.predictions.transform.LayerNorm.bias', 'cls.predictions.transform.dense.weight', 'cls.seq_relationship.bias', 'cls.seq_relationship.weight', 'cls.predictions.transform.LayerNorm.weight', 'cls.predictions.decoder.weight', 'cls.predictions.bias', 'cls.predictions.transform.dense.bias']\n",
      "- This IS expected if you are initializing BertModel from the checkpoint of a model trained on another task or with another architecture (e.g. initializing a BertForSequenceClassification model from a BertForPreTraining model).\n",
      "- This IS NOT expected if you are initializing BertModel from the checkpoint of a model that you expect to be exactly identical (initializing a BertForSequenceClassification model from a BertForSequenceClassification model).\n"
     ]
    }
   ],
   "source": [
    "import ssl\n",
    "\n",
    "ssl._create_default_https_context = ssl._create_unverified_context\n",
    "\n",
    "from allennlp.predictors.predictor import Predictor\n",
    "import allennlp_models.tagging\n",
    "\n",
    "predictor_bert = Predictor.from_path(\"https://storage.googleapis.com/allennlp-public-models/structured-prediction-srl-bert.2020.12.15.tar.gz\")\n",
    "\n",
    "predictor_bilstm = Predictor.from_path(\"https://storage.googleapis.com/allennlp-public-models/openie-model.2020.03.26.tar.gz\")"
   ]
  },
  {
   "cell_type": "markdown",
   "id": "79862a81",
   "metadata": {},
   "source": [
    "### MFT: Short sentences with one verb.\n",
    "#### GPT-4 prompt:\n",
    "Generate 50 sentences that contain exactly one verb. And specify what the verb is using a tab. Do not prepend numbers. Each sentence cannot have more than 1 verb.\n",
    "\n",
    "Here is sample output that I want:\n",
    "\n",
    "She loves parties.\\tloves\n",
    "\n",
    "Tell me more.\\tTell\n",
    "\n",
    "It's a beautiful day.\\t's\n",
    "\n",
    "Put your hands behind your back!\\tPut"
   ]
  },
  {
   "cell_type": "code",
   "execution_count": 3,
   "id": "675f8ee5",
   "metadata": {},
   "outputs": [
    {
     "name": "stdout",
     "output_type": "stream",
     "text": [
      "['She reads every day.', 'He studied all night.', 'He went to the store.']\n",
      "['reads', 'studied', 'went']\n"
     ]
    }
   ],
   "source": [
    "with open('data/predicate_identification_1.tsv','r') as infile:\n",
    "    contents = infile.readlines()\n",
    "    contents = [row.strip('\\n').split('\\t') for row in contents]\n",
    "    sentences = [row[0] for row in contents]\n",
    "    verbs = [row[1] for row in contents]\n",
    "    print(sentences[:3])\n",
    "    print(verbs[:3])    "
   ]
  },
  {
   "cell_type": "code",
   "execution_count": 4,
   "id": "82a8161b",
   "metadata": {},
   "outputs": [
    {
     "name": "stdout",
     "output_type": "stream",
     "text": [
      "(BERT) The error rate for short sentences with one verb is: 0.0\n",
      "(BILSTM) The error rate for short sentences with one verb is: 0.0\n"
     ]
    }
   ],
   "source": [
    "def short_sentences(predictor, sentences, verbs):\n",
    "    errors = 0\n",
    "    for sentence, verb in zip(sentences, verbs):\n",
    "        detected_verbs = set()\n",
    "        prediction = predictor.predict(sentence=sentence)\n",
    "        for detected in prediction['verbs']:\n",
    "            detected_verbs.add(detected['verb'])\n",
    "        if verb not in detected_verbs:\n",
    "            errors += 1\n",
    "            print(repr((sentence, verb)))\n",
    "    return errors / len(sentences)\n",
    "            \n",
    "bert_short_sentences_error_rate = short_sentences(predictor_bert, sentences, verbs)\n",
    "print(f'(BERT) The error rate for short sentences with one verb is:', bert_short_sentences_error_rate)\n",
    "\n",
    "bilstm_short_sentences_error_rate = short_sentences(predictor_bilstm, sentences, verbs)\n",
    "print(f'(BILSTM) The error rate for short sentences with one verb is:', bilstm_short_sentences_error_rate)"
   ]
  },
  {
   "cell_type": "markdown",
   "id": "0e9b8048",
   "metadata": {},
   "source": [
    "### MFT: Sentences with a succession of verbs."
   ]
  }
 ],
 "metadata": {
  "kernelspec": {
   "display_name": "allenNLP",
   "language": "python",
   "name": "allennlp"
  },
  "language_info": {
   "codemirror_mode": {
    "name": "ipython",
    "version": 3
   },
   "file_extension": ".py",
   "mimetype": "text/x-python",
   "name": "python",
   "nbconvert_exporter": "python",
   "pygments_lexer": "ipython3",
   "version": "3.8.10"
  }
 },
 "nbformat": 4,
 "nbformat_minor": 5
}
