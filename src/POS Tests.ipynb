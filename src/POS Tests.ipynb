{
 "cells": [
  {
   "cell_type": "code",
   "execution_count": 1,
   "id": "09b98b8d",
   "metadata": {},
   "outputs": [
    {
     "name": "stderr",
     "output_type": "stream",
     "text": [
      "Some weights of the model checkpoint at bert-base-uncased were not used when initializing BertModel: ['cls.predictions.transform.LayerNorm.bias', 'cls.predictions.transform.dense.weight', 'cls.predictions.decoder.weight', 'cls.seq_relationship.weight', 'cls.predictions.bias', 'cls.predictions.transform.dense.bias', 'cls.predictions.transform.LayerNorm.weight', 'cls.seq_relationship.bias']\n",
      "- This IS expected if you are initializing BertModel from the checkpoint of a model trained on another task or with another architecture (e.g. initializing a BertForSequenceClassification model from a BertForPreTraining model).\n",
      "- This IS NOT expected if you are initializing BertModel from the checkpoint of a model that you expect to be exactly identical (initializing a BertForSequenceClassification model from a BertForSequenceClassification model).\n"
     ]
    }
   ],
   "source": [
    "import ssl\n",
    "import os\n",
    "\n",
    "ssl._create_default_https_context = ssl._create_unverified_context\n",
    "\n",
    "from allennlp.predictors.predictor import Predictor\n",
    "import allennlp_models.tagging\n",
    "\n",
    "predictor_bert = Predictor.from_path(\"https://storage.googleapis.com/allennlp-public-models/structured-prediction-srl-bert.2020.12.15.tar.gz\")\n",
    "\n",
    "predictor_bilstm = Predictor.from_path(\"https://storage.googleapis.com/allennlp-public-models/openie-model.2020.03.26.tar.gz\")"
   ]
  },
  {
   "cell_type": "code",
   "execution_count": 2,
   "id": "f2a8a393",
   "metadata": {},
   "outputs": [
    {
     "name": "stdout",
     "output_type": "stream",
     "text": [
      "{'sentence': 'He had a stitched wound.', 'adj': 'stitched'}\n",
      "126 sentences\n"
     ]
    }
   ],
   "source": [
    "import json\n",
    "with open('data/adj_verb_mft.json', 'r') as infile:\n",
    "    contents = infile.read()\n",
    "    sentences = json.loads(contents)\n",
    "print(sentences[42])\n",
    "print(len(sentences), \"sentences\")"
   ]
  },
  {
   "cell_type": "markdown",
   "id": "3f2692ff",
   "metadata": {},
   "source": [
    "### MFT: Adjective-Verb Differentiation."
   ]
  },
  {
   "cell_type": "code",
   "execution_count": 3,
   "id": "003a0f5b",
   "metadata": {},
   "outputs": [
    {
     "name": "stdout",
     "output_type": "stream",
     "text": [
      "(BERT) MFT adjectives that look like verbs failure rate: 47.61904761904761\n",
      "(BiLSTM) MFT adjectives that look like verbs failure rate: 47.61904761904761\n"
     ]
    }
   ],
   "source": [
    "def pos_adj_verb_inv(predictor, sentences, model_name):\n",
    "    failures = list()\n",
    "    model_outputs = []\n",
    "\n",
    "    for instance in sentences:\n",
    "        sentence = instance['sentence']\n",
    "        adjective = instance['adj']\n",
    "        \n",
    "        prediction = predictor.predict(sentence)\n",
    "        \n",
    "        detected_verbs = {output['verb'] for output in prediction['verbs']}\n",
    "        \n",
    "        if adjective in detected_verbs:\n",
    "            failures.append(1)\n",
    "            failure = True\n",
    "        else:\n",
    "            failures.append(0)\n",
    "            failure = False\n",
    "\n",
    "        # Add output to model_outputs\n",
    "        model_outputs.append({\n",
    "            'input': {'sentence': sentence, 'adjective': adjective},\n",
    "            'output': {'prediction': prediction},\n",
    "            'failure': failure\n",
    "        })\n",
    "\n",
    "    # Write model_outputs to a JSON file\n",
    "    if not os.path.exists(\"model_outputs\"):\n",
    "        os.makedirs(\"model_outputs\")\n",
    "    with open(f'model_outputs/pos_adj_verb_inv_{model_name}.json', 'w') as f:\n",
    "        json.dump(model_outputs, f, indent=4)\n",
    "                                  \n",
    "    return (sum(failures) / len(failures))\n",
    "\n",
    "print(\"(BERT) MFT adjectives that look like verbs failure rate:\", 100 * pos_adj_verb_inv(predictor_bert, sentences, 'BERT'))\n",
    "print(\"(BiLSTM) MFT adjectives that look like verbs failure rate:\", 100 * pos_adj_verb_inv(predictor_bilstm, sentences, 'BiLSTM'))"
   ]
  },
  {
   "cell_type": "markdown",
   "id": "cc725396",
   "metadata": {},
   "source": [
    "### Very suspicious, are the models using the same mechanism to detect verbs?"
   ]
  }
 ],
 "metadata": {
  "kernelspec": {
   "display_name": "allenNLP",
   "language": "python",
   "name": "allennlp"
  },
  "language_info": {
   "codemirror_mode": {
    "name": "ipython",
    "version": 3
   },
   "file_extension": ".py",
   "mimetype": "text/x-python",
   "name": "python",
   "nbconvert_exporter": "python",
   "pygments_lexer": "ipython3",
   "version": "3.8.10"
  }
 },
 "nbformat": 4,
 "nbformat_minor": 5
}
